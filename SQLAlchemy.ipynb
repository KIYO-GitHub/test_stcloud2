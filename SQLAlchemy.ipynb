{
 "cells": [
  {
   "cell_type": "code",
   "execution_count": 1,
   "metadata": {},
   "outputs": [],
   "source": [
    "from sqlalchemy import create_engine\n",
    "from sqlalchemy.orm import sessionmaker, scoped_session, relationship, Session\n",
    "from sqlalchemy.ext.declarative import declarative_base\n",
    "from sqlalchemy import Column, String, Integer, Float, ForeignKey, Boolean, DateTime, desc\n",
    "\n",
    "dbfile = 'testDB.db'\n",
    "engine = create_engine('sqlite:///' + dbfile)\n",
    "\n",
    "Session = scoped_session(\n",
    "    sessionmaker(\n",
    "        autocommit=False,\n",
    "        autoflush=True,\n",
    "        bind = engine\n",
    "    )\n",
    ")\n",
    "\n",
    "Base =declarative_base()\n",
    "Base.query = Session.query_property()\n",
    "\n",
    "class User(Base):\n",
    "    __tablename__ = 'users'\n",
    "    id = Column(Integer, primary_key=True)\n",
    "    name = Column(String(50), unique=True)\n",
    "    \n",
    "    def __init__(self, name):\n",
    "        self.name = name\n",
    "\n",
    "def init_DB():\n",
    "    Base.metadata.create_all(bind=engine)\n",
    "\n",
    "init_DB()  "
   ]
  },
  {
   "cell_type": "code",
   "execution_count": null,
   "metadata": {},
   "outputs": [],
   "source": [
    "user1, user2 =User('user1'), User('user2')\n",
    "Session.add(user1), Session.add(user2)\n",
    "Session.commit()\n"
   ]
  },
  {
   "cell_type": "code",
   "execution_count": 5,
   "metadata": {},
   "outputs": [
    {
     "data": {
      "text/html": [
       "<div>\n",
       "<style scoped>\n",
       "    .dataframe tbody tr th:only-of-type {\n",
       "        vertical-align: middle;\n",
       "    }\n",
       "\n",
       "    .dataframe tbody tr th {\n",
       "        vertical-align: top;\n",
       "    }\n",
       "\n",
       "    .dataframe thead th {\n",
       "        text-align: right;\n",
       "    }\n",
       "</style>\n",
       "<table border=\"1\" class=\"dataframe\">\n",
       "  <thead>\n",
       "    <tr style=\"text-align: right;\">\n",
       "      <th></th>\n",
       "      <th>id</th>\n",
       "      <th>name</th>\n",
       "    </tr>\n",
       "  </thead>\n",
       "  <tbody>\n",
       "    <tr>\n",
       "      <th>0</th>\n",
       "      <td>1</td>\n",
       "      <td>user1</td>\n",
       "    </tr>\n",
       "    <tr>\n",
       "      <th>1</th>\n",
       "      <td>2</td>\n",
       "      <td>user2</td>\n",
       "    </tr>\n",
       "  </tbody>\n",
       "</table>\n",
       "</div>"
      ],
      "text/plain": [
       "   id   name\n",
       "0   1  user1\n",
       "1   2  user2"
      ]
     },
     "execution_count": 5,
     "metadata": {},
     "output_type": "execute_result"
    }
   ],
   "source": [
    "import pandas as pd\n",
    "\n",
    "df = pd.read_sql('''SELECT * FROM users\n",
    "                 ''', engine)\n",
    "df"
   ]
  },
  {
   "cell_type": "code",
   "execution_count": 16,
   "metadata": {},
   "outputs": [
    {
     "name": "stdout",
     "output_type": "stream",
     "text": [
      "A\n"
     ]
    }
   ],
   "source": [
    "a = ''\n",
    "if not a:\n",
    "    print('A')"
   ]
  }
 ],
 "metadata": {
  "colab": {
   "collapsed_sections": [
    "gB4PqKZ6lyMG",
    "_eBh9vsHlyMI",
    "_vzDT8OvlyMK",
    "wHU9XGFklyMK",
    "wpGVc47jlyML",
    "HKS23JbylyMN",
    "h9eu8SetlyMO",
    "euvW_HPSlyMQ",
    "0bH9LC8alyMS",
    "HAz-FO-elyMW",
    "VVb2G0_clyMZ",
    "unwsPdwslyMa",
    "4YqPh3D_lyMb",
    "pSLJ7hNYlyMb",
    "VUwlP_zIlyMh",
    "yrjyi6KTlyMi",
    "m8xSst5PlyMi"
   ],
   "name": "03_pandas_tutorial.ipynb",
   "provenance": []
  },
  "interpreter": {
   "hash": "ca4374a72b8e33ccc8886abd7bf0b1d24ed310776baf07caddab2bb16dfd7a83"
  },
  "kernelspec": {
   "display_name": "Python 3.8.12 ('base')",
   "language": "python",
   "name": "python3"
  },
  "language_info": {
   "codemirror_mode": {
    "name": "ipython",
    "version": 3
   },
   "file_extension": ".py",
   "mimetype": "text/x-python",
   "name": "python",
   "nbconvert_exporter": "python",
   "pygments_lexer": "ipython3",
   "version": "3.8.12"
  }
 },
 "nbformat": 4,
 "nbformat_minor": 4
}
